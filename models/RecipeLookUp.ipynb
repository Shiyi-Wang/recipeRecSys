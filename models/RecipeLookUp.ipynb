{
 "cells": [
  {
   "cell_type": "code",
   "execution_count": 5,
   "metadata": {},
   "outputs": [],
   "source": [
    "import pandas as pd"
   ]
  },
  {
   "cell_type": "code",
   "execution_count": 6,
   "metadata": {},
   "outputs": [
    {
     "data": {
      "text/html": [
       "<div>\n",
       "<style scoped>\n",
       "    .dataframe tbody tr th:only-of-type {\n",
       "        vertical-align: middle;\n",
       "    }\n",
       "\n",
       "    .dataframe tbody tr th {\n",
       "        vertical-align: top;\n",
       "    }\n",
       "\n",
       "    .dataframe thead th {\n",
       "        text-align: right;\n",
       "    }\n",
       "</style>\n",
       "<table border=\"1\" class=\"dataframe\">\n",
       "  <thead>\n",
       "    <tr style=\"text-align: right;\">\n",
       "      <th></th>\n",
       "      <th>rating</th>\n",
       "      <th>name</th>\n",
       "      <th>user_id</th>\n",
       "      <th>recipe_id</th>\n",
       "    </tr>\n",
       "  </thead>\n",
       "  <tbody>\n",
       "    <tr>\n",
       "      <th>0</th>\n",
       "      <td>4</td>\n",
       "      <td>white bean   green chile pepper soup</td>\n",
       "      <td>3787</td>\n",
       "      <td>16642</td>\n",
       "    </tr>\n",
       "    <tr>\n",
       "      <th>1</th>\n",
       "      <td>5</td>\n",
       "      <td>white bean   green chile pepper soup</td>\n",
       "      <td>95286</td>\n",
       "      <td>16642</td>\n",
       "    </tr>\n",
       "    <tr>\n",
       "      <th>3</th>\n",
       "      <td>5</td>\n",
       "      <td>baked potato toppings</td>\n",
       "      <td>14502</td>\n",
       "      <td>34897</td>\n",
       "    </tr>\n",
       "    <tr>\n",
       "      <th>4</th>\n",
       "      <td>5</td>\n",
       "      <td>baked potato toppings</td>\n",
       "      <td>6559</td>\n",
       "      <td>34897</td>\n",
       "    </tr>\n",
       "    <tr>\n",
       "      <th>5</th>\n",
       "      <td>4</td>\n",
       "      <td>sugared raspberries</td>\n",
       "      <td>5690</td>\n",
       "      <td>49598</td>\n",
       "    </tr>\n",
       "    <tr>\n",
       "      <th>...</th>\n",
       "      <td>...</td>\n",
       "      <td>...</td>\n",
       "      <td>...</td>\n",
       "      <td>...</td>\n",
       "    </tr>\n",
       "    <tr>\n",
       "      <th>1132360</th>\n",
       "      <td>5</td>\n",
       "      <td>easy microwave hot fudge topping</td>\n",
       "      <td>215681</td>\n",
       "      <td>33795</td>\n",
       "    </tr>\n",
       "    <tr>\n",
       "      <th>1132361</th>\n",
       "      <td>0</td>\n",
       "      <td>garlic clove chicken</td>\n",
       "      <td>11621</td>\n",
       "      <td>22415</td>\n",
       "    </tr>\n",
       "    <tr>\n",
       "      <th>1132364</th>\n",
       "      <td>5</td>\n",
       "      <td>pot roast with port  stove top</td>\n",
       "      <td>17831</td>\n",
       "      <td>32160</td>\n",
       "    </tr>\n",
       "    <tr>\n",
       "      <th>1132365</th>\n",
       "      <td>4</td>\n",
       "      <td>pot roast with port  stove top</td>\n",
       "      <td>5947</td>\n",
       "      <td>32160</td>\n",
       "    </tr>\n",
       "    <tr>\n",
       "      <th>1132366</th>\n",
       "      <td>5</td>\n",
       "      <td>pot roast with port  stove top</td>\n",
       "      <td>202858</td>\n",
       "      <td>32160</td>\n",
       "    </tr>\n",
       "  </tbody>\n",
       "</table>\n",
       "<p>1040414 rows × 4 columns</p>\n",
       "</div>"
      ],
      "text/plain": [
       "         rating                                  name  user_id  recipe_id\n",
       "0             4  white bean   green chile pepper soup     3787      16642\n",
       "1             5  white bean   green chile pepper soup    95286      16642\n",
       "3             5                 baked potato toppings    14502      34897\n",
       "4             5                 baked potato toppings     6559      34897\n",
       "5             4                   sugared raspberries     5690      49598\n",
       "...         ...                                   ...      ...        ...\n",
       "1132360       5      easy microwave hot fudge topping   215681      33795\n",
       "1132361       0                  garlic clove chicken    11621      22415\n",
       "1132364       5        pot roast with port  stove top    17831      32160\n",
       "1132365       4        pot roast with port  stove top     5947      32160\n",
       "1132366       5        pot roast with port  stove top   202858      32160\n",
       "\n",
       "[1040414 rows x 4 columns]"
      ]
     },
     "execution_count": 6,
     "metadata": {},
     "output_type": "execute_result"
    }
   ],
   "source": [
    "data = pd.read_pickle('../data/processed_data.pkl')\n",
    "#data = data.drop(data.index[150000:])\n",
    "data"
   ]
  },
  {
   "cell_type": "code",
   "execution_count": 9,
   "metadata": {},
   "outputs": [
    {
     "name": "stdout",
     "output_type": "stream",
     "text": [
      "        rating                          name  user_id  recipe_id\n",
      "740391       5  amish triple butter biscuits    47577     139672\n",
      "740392       5  amish triple butter biscuits    53653     139672\n",
      "740393       5  amish triple butter biscuits    14643     139672\n"
     ]
    }
   ],
   "source": [
    "i=data[data[\"recipe_id\"]==139672]\n",
    "print(i)"
   ]
  },
  {
   "cell_type": "code",
   "execution_count": null,
   "metadata": {},
   "outputs": [],
   "source": []
  }
 ],
 "metadata": {
  "interpreter": {
   "hash": "84ececd97bfcff18fa6fe809cf5934db34ce57cfd4800e18b52e2f5b266d2853"
  },
  "kernelspec": {
   "display_name": "Python 3.9.7 ('machineLearning')",
   "language": "python",
   "name": "python3"
  },
  "language_info": {
   "codemirror_mode": {
    "name": "ipython",
    "version": 3
   },
   "file_extension": ".py",
   "mimetype": "text/x-python",
   "name": "python",
   "nbconvert_exporter": "python",
   "pygments_lexer": "ipython3",
   "version": "3.9.7"
  },
  "orig_nbformat": 4
 },
 "nbformat": 4,
 "nbformat_minor": 2
}
