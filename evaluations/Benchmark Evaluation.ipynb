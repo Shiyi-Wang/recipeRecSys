{
 "cells": [
  {
   "cell_type": "markdown",
   "metadata": {},
   "source": [
    "# Benchmark Evaluation Module\n",
    "Author: Shiyi Wang"
   ]
  },
  {
   "cell_type": "code",
   "execution_count": 23,
   "metadata": {},
   "outputs": [],
   "source": [
    "import pandas as pd\n",
    "from surprise import Reader\n",
    "from surprise import Dataset\n",
    "from surprise.model_selection import cross_validate\n",
    "from surprise import NormalPredictor\n",
    "from surprise import KNNBasic\n",
    "from surprise import KNNWithMeans\n",
    "from surprise import KNNWithZScore\n",
    "from surprise import KNNBaseline\n",
    "from surprise import SVD\n",
    "from surprise import BaselineOnly\n",
    "from surprise import SVDpp\n",
    "#from surprise import NMF\n",
    "from surprise import SlopeOne\n",
    "from surprise import CoClustering\n",
    "from surprise.accuracy import rmse\n",
    "from surprise import accuracy\n",
    "from surprise.model_selection import train_test_split\n",
    "from surprise.model_selection import GridSearchCV"
   ]
  },
  {
   "cell_type": "code",
   "execution_count": 24,
   "metadata": {},
   "outputs": [],
   "source": [
    "data = pd.read_pickle('../data/processed_data.pkl')\n",
    "data = data.drop(data.index[100000:])"
   ]
  },
  {
   "cell_type": "code",
   "execution_count": 25,
   "metadata": {},
   "outputs": [],
   "source": [
    "reader = Reader(rating_scale=(0, 5))\n",
    "data = Dataset.load_from_df(data[['user_id', 'recipe_id', 'rating']], reader)"
   ]
  },
  {
   "cell_type": "markdown",
   "metadata": {},
   "source": [
    "\n",
    "#### NormalPredictor\n",
    "\n",
    "* NormalPredictor algorithm predicts a random rating based on the distribution of the training set, which is assumed to be normal. This is one of the most basic algorithms that do not do much work.\n",
    "\n",
    "#### BaselineOnly\n",
    "\n",
    "* BasiclineOnly algorithm predicts the baseline estimate for given user and item.\n",
    "\n",
    "### k-NN algorithms\n",
    "\n",
    "#### KNNBasic\n",
    "\n",
    "* KNNBasic is a basic collaborative filtering algorithm.\n",
    "\n",
    "#### KNNWithMeans\n",
    "\n",
    "* KNNWithMeans is basic collaborative filtering algorithm, taking into account the mean ratings of each user.\n",
    "\n",
    "#### KNNWithZScore\n",
    "\n",
    "* KNNWithZScore is a basic collaborative filtering algorithm, taking into account the z-score normalization of each user.\n",
    "\n",
    "#### KNNBaseline\n",
    "\n",
    "* KNNBaseline is a basic collaborative filtering algorithm taking into account a baseline rating.\n",
    "\n",
    "### Matrix Factorization-based algorithms\n",
    "\n",
    "#### SVD\n",
    "\n",
    "* SVD algorithm is equivalent to Probabilistic Matrix Factorization (http://papers.nips.cc/paper/3208-probabilistic-matrix-factorization.pdf)\n",
    "\n",
    "#### SVDpp\n",
    "\n",
    "* The SVDpp algorithm is an extension of SVD that takes into account implicit ratings.\n",
    "\n",
    "### Slope One\n",
    "\n",
    "* Slope One is a straightforward implementation of the SlopeOne algorithm. (https://arxiv.org/abs/cs/0702144)\n",
    "\n",
    "### Co-clustering\n",
    "\n",
    "* Co-clustering is a collaborative filtering algorithm based on co-clustering (http://citeseerx.ist.psu.edu/viewdoc/download?doi=10.1.1.113.6458&rep=rep1&type=pdf)\n",
    "\n",
    "\n",
    "We use rmse as our accuracy metric for the predictions."
   ]
  },
  {
   "cell_type": "code",
   "execution_count": 26,
   "metadata": {},
   "outputs": [
    {
     "name": "stdout",
     "output_type": "stream",
     "text": [
      "Attempting:  [<surprise.prediction_algorithms.matrix_factorization.SVD object at 0x7fac6b3f8880>, <surprise.prediction_algorithms.matrix_factorization.SVDpp object at 0x7fac6b3f84c0>, <surprise.prediction_algorithms.slope_one.SlopeOne object at 0x7fac6b3f8cd0>, <surprise.prediction_algorithms.random_pred.NormalPredictor object at 0x7fac6b3f88b0>, <surprise.prediction_algorithms.knns.KNNBasic object at 0x7fac6b3f8670>] \n",
      "\n",
      "\n",
      "\n",
      "Starting:  <surprise.prediction_algorithms.matrix_factorization.SVD object at 0x7fac6b3f8880>\n",
      "Done:  <surprise.prediction_algorithms.matrix_factorization.SVD object at 0x7fac6b3f8880> \n",
      "\n",
      "\n",
      "Starting:  <surprise.prediction_algorithms.matrix_factorization.SVDpp object at 0x7fac6b3f84c0>\n",
      "Done:  <surprise.prediction_algorithms.matrix_factorization.SVDpp object at 0x7fac6b3f84c0> \n",
      "\n",
      "\n",
      "Starting:  <surprise.prediction_algorithms.slope_one.SlopeOne object at 0x7fac6b3f8cd0>\n",
      "Done:  <surprise.prediction_algorithms.slope_one.SlopeOne object at 0x7fac6b3f8cd0> \n",
      "\n",
      "\n",
      "Starting:  <surprise.prediction_algorithms.random_pred.NormalPredictor object at 0x7fac6b3f88b0>\n",
      "Done:  <surprise.prediction_algorithms.random_pred.NormalPredictor object at 0x7fac6b3f88b0> \n",
      "\n",
      "\n",
      "Starting:  <surprise.prediction_algorithms.knns.KNNBasic object at 0x7fac6b3f8670>\n",
      "Computing the msd similarity matrix...\n",
      "Done computing similarity matrix.\n",
      "Computing the msd similarity matrix...\n",
      "Done computing similarity matrix.\n",
      "Computing the msd similarity matrix...\n",
      "Done computing similarity matrix.\n",
      "Done:  <surprise.prediction_algorithms.knns.KNNBasic object at 0x7fac6b3f8670> \n",
      "\n",
      "\n",
      "\n",
      "\tDONE\n",
      "\n"
     ]
    }
   ],
   "source": [
    "benchmark = []\n",
    "# Iterate over all algorithms\n",
    "\n",
    "algorithms = [SVD(), SVDpp(), SlopeOne(), NormalPredictor(), KNNBasic(k=10)]\n",
    "#algorithms = [SVD(), SVDpp(), SlopeOne(), NormalPredictor(), KNNBaseline(), KNNBasic(), KNNWithMeans(), KNNWithZScore(), BaselineOnly(), CoClustering()]\n",
    "\n",
    "print (\"Attempting: \", str(algorithms), '\\n\\n\\n')\n",
    "\n",
    "for algorithm in algorithms:\n",
    "    try:\n",
    "        print(\"Starting: \" ,str(algorithm))\n",
    "        # Perform cross validation\n",
    "        results = cross_validate(algorithm, data, measures=['RMSE'], cv=3, verbose=False)\n",
    "        # results = cross_validate(algorithm, data, measures=['RMSE','MAE'], cv=3, verbose=False)\n",
    "        \n",
    "        # Get results & append algorithm name\n",
    "        tmp = pd.DataFrame.from_dict(results).mean(axis=0)\n",
    "        tmp = tmp.append(pd.Series([str(algorithm).split(' ')[0].split('.')[-1]], index=['Algorithm']))\n",
    "        benchmark.append(tmp)\n",
    "        print(\"Done: \" ,str(algorithm), \"\\n\\n\")\n",
    "    except:\n",
    "        pass\n",
    "\n",
    "print ('\\n\\tDONE\\n')"
   ]
  },
  {
   "cell_type": "code",
   "execution_count": 27,
   "metadata": {},
   "outputs": [
    {
     "data": {
      "text/plain": [
       "[test_rmse    1.223165\n",
       " fit_time     4.761671\n",
       " test_time    0.432596\n",
       " Algorithm         SVD\n",
       " dtype: object,\n",
       " test_rmse     1.225148\n",
       " fit_time     27.876124\n",
       " test_time     1.717175\n",
       " Algorithm        SVDpp\n",
       " dtype: object,\n",
       " test_rmse    1.314832\n",
       " fit_time     7.274538\n",
       " test_time    1.246718\n",
       " Algorithm    SlopeOne\n",
       " dtype: object,\n",
       " test_rmse           1.568506\n",
       " fit_time            0.124535\n",
       " test_time            0.30532\n",
       " Algorithm    NormalPredictor\n",
       " dtype: object,\n",
       " test_rmse     1.279595\n",
       " fit_time     59.794599\n",
       " test_time     3.059934\n",
       " Algorithm     KNNBasic\n",
       " dtype: object]"
      ]
     },
     "execution_count": 27,
     "metadata": {},
     "output_type": "execute_result"
    }
   ],
   "source": [
    "benchmark"
   ]
  },
  {
   "cell_type": "code",
   "execution_count": 28,
   "metadata": {},
   "outputs": [],
   "source": [
    "surprise_results = pd.DataFrame(benchmark).set_index('Algorithm').sort_values('test_rmse')"
   ]
  },
  {
   "cell_type": "code",
   "execution_count": 29,
   "metadata": {},
   "outputs": [
    {
     "data": {
      "text/html": [
       "<div>\n",
       "<style scoped>\n",
       "    .dataframe tbody tr th:only-of-type {\n",
       "        vertical-align: middle;\n",
       "    }\n",
       "\n",
       "    .dataframe tbody tr th {\n",
       "        vertical-align: top;\n",
       "    }\n",
       "\n",
       "    .dataframe thead th {\n",
       "        text-align: right;\n",
       "    }\n",
       "</style>\n",
       "<table border=\"1\" class=\"dataframe\">\n",
       "  <thead>\n",
       "    <tr style=\"text-align: right;\">\n",
       "      <th></th>\n",
       "      <th>test_rmse</th>\n",
       "      <th>fit_time</th>\n",
       "      <th>test_time</th>\n",
       "    </tr>\n",
       "    <tr>\n",
       "      <th>Algorithm</th>\n",
       "      <th></th>\n",
       "      <th></th>\n",
       "      <th></th>\n",
       "    </tr>\n",
       "  </thead>\n",
       "  <tbody>\n",
       "    <tr>\n",
       "      <th>SVD</th>\n",
       "      <td>1.223165</td>\n",
       "      <td>4.761671</td>\n",
       "      <td>0.432596</td>\n",
       "    </tr>\n",
       "    <tr>\n",
       "      <th>SVDpp</th>\n",
       "      <td>1.225148</td>\n",
       "      <td>27.876124</td>\n",
       "      <td>1.717175</td>\n",
       "    </tr>\n",
       "    <tr>\n",
       "      <th>KNNBasic</th>\n",
       "      <td>1.279595</td>\n",
       "      <td>59.794599</td>\n",
       "      <td>3.059934</td>\n",
       "    </tr>\n",
       "    <tr>\n",
       "      <th>SlopeOne</th>\n",
       "      <td>1.314832</td>\n",
       "      <td>7.274538</td>\n",
       "      <td>1.246718</td>\n",
       "    </tr>\n",
       "    <tr>\n",
       "      <th>NormalPredictor</th>\n",
       "      <td>1.568506</td>\n",
       "      <td>0.124535</td>\n",
       "      <td>0.305320</td>\n",
       "    </tr>\n",
       "  </tbody>\n",
       "</table>\n",
       "</div>"
      ],
      "text/plain": [
       "                 test_rmse   fit_time  test_time\n",
       "Algorithm                                       \n",
       "SVD               1.223165   4.761671   0.432596\n",
       "SVDpp             1.225148  27.876124   1.717175\n",
       "KNNBasic          1.279595  59.794599   3.059934\n",
       "SlopeOne          1.314832   7.274538   1.246718\n",
       "NormalPredictor   1.568506   0.124535   0.305320"
      ]
     },
     "execution_count": 29,
     "metadata": {},
     "output_type": "execute_result"
    }
   ],
   "source": [
    "surprise_results"
   ]
  },
  {
   "cell_type": "code",
   "execution_count": 30,
   "metadata": {},
   "outputs": [],
   "source": [
    "surprise_results.to_csv(\"../evaluations/benchmark_results.csv\")"
   ]
  }
 ],
 "metadata": {
  "interpreter": {
   "hash": "84ececd97bfcff18fa6fe809cf5934db34ce57cfd4800e18b52e2f5b266d2853"
  },
  "kernelspec": {
   "display_name": "Python 3.9.7 ('machineLearning')",
   "language": "python",
   "name": "python3"
  },
  "language_info": {
   "codemirror_mode": {
    "name": "ipython",
    "version": 3
   },
   "file_extension": ".py",
   "mimetype": "text/x-python",
   "name": "python",
   "nbconvert_exporter": "python",
   "pygments_lexer": "ipython3",
   "version": "3.9.7"
  },
  "orig_nbformat": 4
 },
 "nbformat": 4,
 "nbformat_minor": 2
}
