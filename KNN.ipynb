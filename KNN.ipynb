{
 "cells": [
  {
   "cell_type": "markdown",
   "metadata": {},
   "source": [
    "# Food Recipe Recommender System Core\n",
    "Author: Shiyi Wang"
   ]
  },
  {
   "cell_type": "code",
   "execution_count": 1,
   "metadata": {},
   "outputs": [],
   "source": [
    "import pandas as pd\n",
    "import numpy as np\n",
    "from collections import Counter\n",
    "from pprint import pprint"
   ]
  },
  {
   "cell_type": "markdown",
   "metadata": {},
   "source": [
    "Load dataset"
   ]
  },
  {
   "cell_type": "code",
   "execution_count": 2,
   "metadata": {},
   "outputs": [],
   "source": [
    "data = pd.read_pickle('./output/processed_data.pkl')"
   ]
  },
  {
   "cell_type": "markdown",
   "metadata": {},
   "source": [
    "Trancates dataset size for proper runs."
   ]
  },
  {
   "cell_type": "code",
   "execution_count": 3,
   "metadata": {},
   "outputs": [],
   "source": [
    "data = data.drop(data.index[100000:])"
   ]
  },
  {
   "cell_type": "markdown",
   "metadata": {},
   "source": [
    "Calculate transposed matrix"
   ]
  },
  {
   "cell_type": "code",
   "execution_count": 4,
   "metadata": {},
   "outputs": [],
   "source": [
    "tmat = data.pivot_table(index = 'user_id', columns = 'name',values = 'rating').fillna(0)"
   ]
  },
  {
   "cell_type": "markdown",
   "metadata": {},
   "source": [
    "Apply KNN to train our model"
   ]
  },
  {
   "cell_type": "code",
   "execution_count": 5,
   "metadata": {},
   "outputs": [
    {
     "data": {
      "text/plain": [
       "(array([[    0,  9133, 28108, 26964, 27122, 32317],\n",
       "        [    1, 13332,  7111,  2923, 18836, 15419],\n",
       "        [    2, 10672, 22745,  8582, 26058, 20475],\n",
       "        ...,\n",
       "        [18632, 26995, 16361,  8428, 35910, 10344],\n",
       "        [25782, 25780, 25783, 25785, 25781, 25779],\n",
       "        [29973, 38671, 33452, 34736, 12792, 21308]]),\n",
       " array([[0.        , 0.69343033, 0.69343033, 0.69343033, 0.69343033,\n",
       "         0.69343033],\n",
       "        [0.        , 0.820626  , 0.8385634 , 0.85321519, 0.85354174,\n",
       "         0.85354174],\n",
       "        [0.        , 0.2       , 0.2       , 0.2       , 0.2       ,\n",
       "         0.2       ],\n",
       "        ...,\n",
       "        [0.        , 0.        , 0.        , 0.        , 0.        ,\n",
       "         0.        ],\n",
       "        [1.        , 1.        , 1.        , 1.        , 1.        ,\n",
       "         1.        ],\n",
       "        [0.        , 0.        , 0.        , 0.        , 0.        ,\n",
       "         0.        ]]))"
      ]
     },
     "execution_count": 5,
     "metadata": {},
     "output_type": "execute_result"
    }
   ],
   "source": [
    "from sklearn.neighbors import NearestNeighbors\n",
    "knn = NearestNeighbors(metric='cosine', algorithm='brute')\n",
    "knn.fit(tmat.values)\n",
    "user_neigh_dist, user_neigh_ind = knn.kneighbors(tmat.values, n_neighbors=6)\n",
    "user_neigh_ind, user_neigh_dist"
   ]
  },
  {
   "cell_type": "markdown",
   "metadata": {},
   "source": [
    "Pack into API"
   ]
  },
  {
   "cell_type": "code",
   "execution_count": 6,
   "metadata": {},
   "outputs": [],
   "source": [
    "def findSimilarUsers(user, n=5):\n",
    "        # get neigh_users_dist, neigh_users_ind \n",
    "        neigh_users_dist, neigh_users_ind = knn.kneighbors(\n",
    "            np.asarray([tmat.values[user - 1]]), n_neighbors=n + 1)\n",
    "        # header helper print\n",
    "        print('The top ' + str(n) +  ' most similar users of user ' + str(user) + ' are:')\n",
    "        # iterate all and print the distances\n",
    "        for i in range(1, len(neigh_users_dist[0])):\n",
    "            print('No.' + str(i) + \": User ID: \" + str(neigh_users_ind[0][i]+1) + \", with distance \" + str(neigh_users_dist[0][i]))\n",
    "\n",
    "        print(\"\\n\")\n",
    "\n",
    "        return neigh_users_dist.flatten()[1:], neigh_users_ind.flatten()[1:] + 1"
   ]
  },
  {
   "cell_type": "code",
   "execution_count": 7,
   "metadata": {},
   "outputs": [],
   "source": [
    "def getRecommendations(num_recipes_recommended, avg_rating, userId):\n",
    "        # clean up the zero ratings\n",
    "        zero_rating = np.where(avg_rating == 0)[0][-1]\n",
    "        ranked_ind = np.argsort(avg_rating)[::-1]\n",
    "        ranked_ind = ranked_ind[:list(ranked_ind).index(zero_rating)]\n",
    "        # check input validity by comparing with recipes we have\n",
    "        num_recipes_recommended = min(len(ranked_ind), num_recipes_recommended)\n",
    "        # store seen recipes in a list\n",
    "        seen = list(data[data['user_id'] == userId]['name'])\n",
    "        recipes = list(tmat.columns[ranked_ind])\n",
    "        # recommended count\n",
    "        count = 0\n",
    "        # store recommended recipes in the list\n",
    "        recommended_recipes = []\n",
    "        for recipe in recipes:\n",
    "            # only append if not seen\n",
    "            if recipe not in seen:\n",
    "                recommended_recipes.append(recipe)\n",
    "                count += 1\n",
    "            if count == num_recipes_recommended:\n",
    "                break\n",
    "\n",
    "        pprint(recommended_recipes)"
   ]
  },
  {
   "cell_type": "code",
   "execution_count": 8,
   "metadata": {},
   "outputs": [],
   "source": [
    "def recommend(userId, num_similar_users, num_recipes_recommended):\n",
    "\n",
    "    print(\"User \" + str(userId) + \" has rated the following recipes: \")\n",
    "    pprint(list(data[data['user_id'] == userId]['name']))\n",
    "    print(\"\\n\")\n",
    "    \n",
    "    # retrieve neigh_users_dist and neigh_users_ind\n",
    "    neigh_users_dist, neigh_users_ind = findSimilarUsers(userId, num_similar_users)\n",
    "    # weight each distance based on the total distances\n",
    "    weighted_user_neigh_dist = neigh_users_dist / np.sum(neigh_users_dist)\n",
    "    # Broadcasting\n",
    "    weighted_user_neigh_dist = weighted_user_neigh_dist[:, np.newaxis] + np.zeros(len(tmat.columns))\n",
    "    # Calculate the average rating\n",
    "    avg_rating =  (weighted_user_neigh_dist * tmat.values[neigh_users_ind]).sum(axis=0)\n",
    "    # helper print function\n",
    "    print(\"Based on other users rating, we recommend:\")\n",
    "    \n",
    "    getRecommendations(num_recipes_recommended, avg_rating, userId)\n"
   ]
  },
  {
   "cell_type": "markdown",
   "metadata": {},
   "source": [
    "Unit Test"
   ]
  },
  {
   "cell_type": "code",
   "execution_count": 9,
   "metadata": {},
   "outputs": [
    {
     "name": "stdout",
     "output_type": "stream",
     "text": [
      "User 38094 has rated the following recipes: \n",
      "['white bean   green chile pepper soup',\n",
      " 'black beans with mango sauce',\n",
      " 'warm spinach salad',\n",
      " 'roasted asparagus   shiitake mushrooms']\n",
      "\n",
      "\n",
      "The top 5 most similar users of user 38094 are:\n",
      "No.1: User ID: 6157, with distance 0.49748109237039395\n",
      "No.2: User ID: 10430, with distance 0.5\n",
      "No.3: User ID: 6995, with distance 0.7441777449516747\n",
      "No.4: User ID: 16687, with distance 0.8222204663663055\n",
      "No.5: User ID: 13401, with distance 0.8636138186025047\n",
      "\n",
      "\n",
      "Based on other users rating, we recommend:\n",
      "['chinese buffet style donuts',\n",
      " 'bacon wrapped chicken  oamc',\n",
      " 'taco bell taco sauce',\n",
      " 'double chocolate pudding',\n",
      " 'chocolate raspberry cobbler cake']\n"
     ]
    }
   ],
   "source": [
    "recommend(userId = 38094, num_similar_users = 5, num_recipes_recommended = 5)"
   ]
  }
 ],
 "metadata": {
  "interpreter": {
   "hash": "e0504e5a66719fc4b1606a3cc4c5628ffa8318d6a55ecdb442f0ea638181ad8c"
  },
  "kernelspec": {
   "display_name": "Python 3.8.12 ('mlLite')",
   "language": "python",
   "name": "python3"
  },
  "language_info": {
   "codemirror_mode": {
    "name": "ipython",
    "version": 3
   },
   "file_extension": ".py",
   "mimetype": "text/x-python",
   "name": "python",
   "nbconvert_exporter": "python",
   "pygments_lexer": "ipython3",
   "version": "3.9.7"
  },
  "orig_nbformat": 4
 },
 "nbformat": 4,
 "nbformat_minor": 2
}
